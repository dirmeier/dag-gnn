{
 "cells": [
  {
   "cell_type": "markdown",
   "metadata": {},
   "source": [
    "# Learning causal Bayes nets using variational autoencoders\n",
    "\n",
    "Learning cause-effect mechanisms among a set of random variables is not only of great epistemological interest, but also a fascinating statistical problem. \n",
    "\n",
    "\n",
    "The relevant code can be found [here](https://github.com/dirmeier/dag-gnn).\n",
    "\n",
    "Feedback and comments are welcome!"
   ]
  },
  {
   "cell_type": "code",
   "execution_count": 1,
   "metadata": {},
   "outputs": [],
   "source": [
    "suppressMessages({\n",
    "    library(dplyr)\n",
    "    library(igraph)    \n",
    "    library(ggraph)\n",
    "    library(tidyverse)\n",
    "    library(colorspace)\n",
    "    library(patchwork)\n",
    "    \n",
    "    library(pcalg)\n",
    "    library(daggnn)  \n",
    "})"
   ]
  },
  {
   "cell_type": "code",
   "execution_count": 204,
   "metadata": {},
   "outputs": [],
   "source": []
  },
  {
   "cell_type": "code",
   "execution_count": 266,
   "metadata": {},
   "outputs": [],
   "source": [
    "n <- 1000\n",
    "p <- 7"
   ]
  },
  {
   "cell_type": "code",
   "execution_count": 212,
   "metadata": {},
   "outputs": [],
   "source": [
    "set.seed(123)\n",
    "dag <- pcalg::randomDAG(p, prob = 0.2)"
   ]
  },
  {
   "cell_type": "code",
   "execution_count": 213,
   "metadata": {},
   "outputs": [],
   "source": [
    "A <- dag %>%\n",
    "    igraph::graph_from_graphnel() %>%\n",
    "    igraph::as_adj() %>%\n",
    "    as.matrix()"
   ]
  },
  {
   "cell_type": "code",
   "execution_count": 214,
   "metadata": {},
   "outputs": [],
   "source": [
    "ordering <- sample(1:p)\n",
    "A <- A[ordering ,ordering]\n",
    "colnames(A) <- rownames(A) <- LETTERS[1:p]"
   ]
  },
  {
   "cell_type": "code",
   "execution_count": 215,
   "metadata": {},
   "outputs": [
    {
     "data": {
      "text/html": [
       "<table>\n",
       "<caption>A matrix: 7 × 7 of type dbl</caption>\n",
       "<thead>\n",
       "\t<tr><th></th><th scope=col>A</th><th scope=col>B</th><th scope=col>C</th><th scope=col>D</th><th scope=col>E</th><th scope=col>F</th><th scope=col>G</th></tr>\n",
       "</thead>\n",
       "<tbody>\n",
       "\t<tr><th scope=row>A</th><td>0</td><td>0</td><td>0</td><td>0</td><td>0</td><td>1</td><td>0</td></tr>\n",
       "\t<tr><th scope=row>B</th><td>0</td><td>0</td><td>1</td><td>0</td><td>0</td><td>0</td><td>0</td></tr>\n",
       "\t<tr><th scope=row>C</th><td>0</td><td>0</td><td>0</td><td>0</td><td>1</td><td>0</td><td>0</td></tr>\n",
       "\t<tr><th scope=row>D</th><td>0</td><td>0</td><td>0</td><td>0</td><td>0</td><td>0</td><td>0</td></tr>\n",
       "\t<tr><th scope=row>E</th><td>0</td><td>0</td><td>0</td><td>0</td><td>0</td><td>1</td><td>0</td></tr>\n",
       "\t<tr><th scope=row>F</th><td>0</td><td>0</td><td>0</td><td>0</td><td>0</td><td>0</td><td>0</td></tr>\n",
       "\t<tr><th scope=row>G</th><td>0</td><td>0</td><td>1</td><td>0</td><td>0</td><td>1</td><td>0</td></tr>\n",
       "</tbody>\n",
       "</table>\n"
      ],
      "text/latex": [
       "A matrix: 7 × 7 of type dbl\n",
       "\\begin{tabular}{r|lllllll}\n",
       "  & A & B & C & D & E & F & G\\\\\n",
       "\\hline\n",
       "\tA & 0 & 0 & 0 & 0 & 0 & 1 & 0\\\\\n",
       "\tB & 0 & 0 & 1 & 0 & 0 & 0 & 0\\\\\n",
       "\tC & 0 & 0 & 0 & 0 & 1 & 0 & 0\\\\\n",
       "\tD & 0 & 0 & 0 & 0 & 0 & 0 & 0\\\\\n",
       "\tE & 0 & 0 & 0 & 0 & 0 & 1 & 0\\\\\n",
       "\tF & 0 & 0 & 0 & 0 & 0 & 0 & 0\\\\\n",
       "\tG & 0 & 0 & 1 & 0 & 0 & 1 & 0\\\\\n",
       "\\end{tabular}\n"
      ],
      "text/markdown": [
       "\n",
       "A matrix: 7 × 7 of type dbl\n",
       "\n",
       "| <!--/--> | A | B | C | D | E | F | G |\n",
       "|---|---|---|---|---|---|---|---|\n",
       "| A | 0 | 0 | 0 | 0 | 0 | 1 | 0 |\n",
       "| B | 0 | 0 | 1 | 0 | 0 | 0 | 0 |\n",
       "| C | 0 | 0 | 0 | 0 | 1 | 0 | 0 |\n",
       "| D | 0 | 0 | 0 | 0 | 0 | 0 | 0 |\n",
       "| E | 0 | 0 | 0 | 0 | 0 | 1 | 0 |\n",
       "| F | 0 | 0 | 0 | 0 | 0 | 0 | 0 |\n",
       "| G | 0 | 0 | 1 | 0 | 0 | 1 | 0 |\n",
       "\n"
      ],
      "text/plain": [
       "  A B C D E F G\n",
       "A 0 0 0 0 0 1 0\n",
       "B 0 0 1 0 0 0 0\n",
       "C 0 0 0 0 1 0 0\n",
       "D 0 0 0 0 0 0 0\n",
       "E 0 0 0 0 0 1 0\n",
       "F 0 0 0 0 0 0 0\n",
       "G 0 0 1 0 0 1 0"
      ]
     },
     "metadata": {},
     "output_type": "display_data"
    }
   ],
   "source": [
    "A"
   ]
  },
  {
   "cell_type": "code",
   "execution_count": 216,
   "metadata": {},
   "outputs": [
    {
     "data": {
      "text/html": [
       "TRUE"
      ],
      "text/latex": [
       "TRUE"
      ],
      "text/markdown": [
       "TRUE"
      ],
      "text/plain": [
       "[1] TRUE"
      ]
     },
     "metadata": {},
     "output_type": "display_data"
    }
   ],
   "source": [
    "igraph::graph_from_adjacency_matrix(A, weighted=TRUE) %>%\n",
    "  is.dag()"
   ]
  },
  {
   "cell_type": "code",
   "execution_count": 217,
   "metadata": {},
   "outputs": [],
   "source": [
    "plot.adj <- function(adj) {    \n",
    "    igraph::graph_from_adjacency_matrix(adj, weighted = TRUE) %>%\n",
    "    ggraph::ggraph(layout = \"sugiyama\") +\n",
    "    ggraph::geom_edge_link(\n",
    "      ggplot2::aes(\n",
    "        start_cap = label_rect(node1.name),\n",
    "        end_cap = label_rect(node2.name)\n",
    "      ),\n",
    "      arrow = arrow(length = unit(4, \"mm\"))\n",
    "    ) +\n",
    "    ggraph::geom_node_text(ggplot2::aes(label = name), size = 5) +\n",
    "    ggraph::scale_edge_color_viridis(\"Coefficient\", end = .8, option = \"B\") +\n",
    "    ggraph::scale_edge_width(\"Direction\", range = c(.5, 2), limits = c(.5, 1)) +\n",
    "    ggraph::theme_graph()\n",
    "} "
   ]
  },
  {
   "cell_type": "code",
   "execution_count": 218,
   "metadata": {},
   "outputs": [
    {
     "data": {
      "image/png": "[encoded data removed]",
      "text/plain": [
       "plot without title"
      ]
     },
     "metadata": {
      "image/png": {
       "height": 420,
       "width": 420
      },
      "text/plain": {
       "height": 420,
       "width": 420
      }
     },
     "output_type": "display_data"
    }
   ],
   "source": [
    "plot.adj(A)"
   ]
  },
  {
   "cell_type": "code",
   "execution_count": 247,
   "metadata": {},
   "outputs": [],
   "source": [
    "Z <- matrix(rnorm(n * p, 0, 0.1), n)"
   ]
  },
  {
   "cell_type": "code",
   "execution_count": 248,
   "metadata": {},
   "outputs": [],
   "source": [
    "X <- Z %*% solve(diag(p) - A)\n",
    "X <- as.data.frame(X)"
   ]
  },
  {
   "cell_type": "code",
   "execution_count": 268,
   "metadata": {},
   "outputs": [],
   "source": [
    "sufficient <- list(C = cor(X), n = nrow(X))\n",
    "bn.pc <- pc(sufficient, indepTest = gaussCItest,labels = colnames(X), alpha = 0.05)"
   ]
  },
  {
   "cell_type": "code",
   "execution_count": 274,
   "metadata": {},
   "outputs": [
    {
     "data": {
      "image/png": "[encoded data removed]",
      "text/plain": [
       "plot without title"
      ]
     },
     "metadata": {
      "image/png": {
       "height": 420,
       "width": 420
      },
      "text/plain": {
       "height": 420,
       "width": 420
      }
     },
     "output_type": "display_data"
    }
   ],
   "source": [
    "pcalg::getGraph(bn.pc)   %>%\n",
    "    igraph::graph_from_graphnel() %>%\n",
    "    igraph::as_adj() %>%\n",
    "    as.matrix() %>% plot.adj()"
   ]
  },
  {
   "cell_type": "code",
   "execution_count": 304,
   "metadata": {},
   "outputs": [
    {
     "ename": "ERROR",
     "evalue": "Error in (function (classes, fdef, mtable) : unable to find an inherited method for function ‘optim’ for signature ‘\"data.frame\"’\n",
     "output_type": "error",
     "traceback": [
      "Error in (function (classes, fdef, mtable) : unable to find an inherited method for function ‘optim’ for signature ‘\"data.frame\"’\nTraceback:\n",
      "1. daggnn::optim(X)",
      "2. (function (classes, fdef, mtable) \n . {\n .     methods <- .findInheritedMethods(classes, fdef, mtable)\n .     if (length(methods) == 1L) \n .         return(methods[[1L]])\n .     else if (length(methods) == 0L) {\n .         cnames <- paste0(\"\\\"\", vapply(classes, as.character, \n .             \"\"), \"\\\"\", collapse = \", \")\n .         stop(gettextf(\"unable to find an inherited method for function %s for signature %s\", \n .             sQuote(fdef@generic), sQuote(cnames)), domain = NA)\n .     }\n .     else stop(\"Internal error in finding inherited methods; didn't return a unique method\", \n .         domain = NA)\n . })(list(\"data.frame\"), new(\"nonstandardGenericFunction\", .Data = function (data, \n .     n_hidden = ceiling(ncol(data)), n_epochs = 100, learning_rate = 0.01, \n .     threshold = 0.3, c = 1, lambda = 0, alpha = 1/ncol(data), \n .     beta = 0, eta = 1, gamma = 1, tol = 1e-08) \n . {\n .     standardGeneric(\"optim\")\n . }, generic = structure(\"optim\", package = \"daggnn\"), package = \"daggnn\", \n .     group = list(), valueClass = character(0), signature = c(\"data\", \n .     \"n_hidden\", \"n_epochs\", \"learning_rate\", \"threshold\", \"c\", \n .     \"lambda\", \"alpha\", \"beta\", \"eta\", \"gamma\", \"tol\"), default = NULL, \n .     skeleton = (function (data, n_hidden = ceiling(ncol(data)), \n .         n_epochs = 100, learning_rate = 0.01, threshold = 0.3, \n .         c = 1, lambda = 0, alpha = 1/ncol(data), beta = 0, eta = 1, \n .         gamma = 1, tol = 1e-08) \n .     stop(\"invalid call in method dispatch to 'optim' (no default method)\", \n .         domain = NA))(data, n_hidden, n_epochs, learning_rate, \n .         threshold, c, lambda, alpha, beta, eta, gamma, tol)), \n .     <environment>)   # at line 97 of file /home/simon/PROJECTS/daggnn/R/AllGenerics.R",
      "3. stop(gettextf(\"unable to find an inherited method for function %s for signature %s\", \n .     sQuote(fdef@generic), sQuote(cnames)), domain = NA)"
     ]
    }
   ],
   "source": [
    "daggnn::optim(X)"
   ]
  },
  {
   "cell_type": "code",
   "execution_count": 283,
   "metadata": {},
   "outputs": [],
   "source": [
    "Z <- matrix(rcauchy(n * p, 0, 1), n)\n",
    "X <- as.data.frame(Z %*% solve(diag(p) - A))"
   ]
  },
  {
   "cell_type": "code",
   "execution_count": 289,
   "metadata": {},
   "outputs": [],
   "source": [
    "bn.lingam <- pcalg::lingam(X)$Bpruned"
   ]
  },
  {
   "cell_type": "code",
   "execution_count": 291,
   "metadata": {},
   "outputs": [],
   "source": [
    "colnames(bn.lingam) <- rownames(bn.lingam) <- colnames(X)"
   ]
  },
  {
   "cell_type": "code",
   "execution_count": 303,
   "metadata": {},
   "outputs": [],
   "source": [
    "?lingam"
   ]
  },
  {
   "cell_type": "code",
   "execution_count": 297,
   "metadata": {},
   "outputs": [],
   "source": [
    "g1 <- as(t(bn.lingam), \"graphNEL\") ## convert to graph\n",
    "cpdag1 <- dag2cpdag(g1)"
   ]
  },
  {
   "cell_type": "code",
   "execution_count": 299,
   "metadata": {},
   "outputs": [
    {
     "data": {
      "text/plain": [
       "A graphNEL graph with directed edges\n",
       "Number of Nodes = 7 \n",
       "Number of Edges = 6 "
      ]
     },
     "metadata": {},
     "output_type": "display_data"
    }
   ],
   "source": [
    "cpdag1"
   ]
  },
  {
   "cell_type": "code",
   "execution_count": 300,
   "metadata": {},
   "outputs": [
    {
     "data": {
      "image/png": "[encoded data removed]",
      "text/plain": [
       "plot without title"
      ]
     },
     "metadata": {
      "image/png": {
       "height": 420,
       "width": 420
      },
      "text/plain": {
       "height": 420,
       "width": 420
      }
     },
     "output_type": "display_data"
    }
   ],
   "source": [
    "plot(cpdag1)"
   ]
  },
  {
   "cell_type": "code",
   "execution_count": 294,
   "metadata": {},
   "outputs": [
    {
     "data": {
      "image/png": "[encoded data removed]",
      "text/plain": [
       "plot without title"
      ]
     },
     "metadata": {
      "image/png": {
       "height": 420,
       "width": 420
      },
      "text/plain": {
       "height": 420,
       "width": 420
      }
     },
     "output_type": "display_data"
    }
   ],
   "source": [
    "plot.adj(A)"
   ]
  },
  {
   "cell_type": "code",
   "execution_count": null,
   "metadata": {},
   "outputs": [],
   "source": []
  }
 ],
 "metadata": {
  "kernelspec": {
   "display_name": "R",
   "language": "R",
   "name": "ir"
  },
  "language_info": {
   "codemirror_mode": "r",
   "file_extension": ".r",
   "mimetype": "text/x-r-source",
   "name": "R",
   "pygments_lexer": "r",
   "version": "4.0.0"
  }
 },
 "nbformat": 4,
 "nbformat_minor": 4
}
